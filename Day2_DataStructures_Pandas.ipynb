{
 "cells": [
  {
   "cell_type": "markdown",
   "id": "146231c7",
   "metadata": {},
   "source": [
    "# Day 2: Python Data Structures, Pandas & Data Cleaning"
   ]
  },
  {
   "cell_type": "markdown",
   "id": "10cfbb61",
   "metadata": {},
   "source": [
    "## Python Data Structures"
   ]
  },
  {
   "cell_type": "code",
   "execution_count": null,
   "id": "b4c492a1",
   "metadata": {},
   "outputs": [],
   "source": [
    "# Lists\n",
    "fruits = [\"apple\", \"banana\", \"cherry\"]\n",
    "fruits.append(\"orange\")\n",
    "fruits.remove(\"banana\")\n",
    "print(fruits)\n",
    "\n",
    "# Tuples\n",
    "colors = (\"red\", \"green\", \"blue\")\n",
    "print(colors[0])\n",
    "\n",
    "# Dictionaries\n",
    "person = {\"name\": \"Alice\", \"age\": 25}\n",
    "print(person[\"name\"])\n",
    "person[\"age\"] = 26"
   ]
  },
  {
   "cell_type": "markdown",
   "id": "1f0c5332",
   "metadata": {},
   "source": [
    "## Pandas Deep Dive"
   ]
  },
  {
   "cell_type": "code",
   "execution_count": null,
   "id": "5c058011",
   "metadata": {},
   "outputs": [],
   "source": [
    "import pandas as pd\n",
    "\n",
    "# Creating a DataFrame\n",
    "df = pd.DataFrame({\n",
    "    'Name': ['Alice', 'Bob', 'Charlie'],\n",
    "    'Score': [85, 92, 78],\n",
    "    'Passed': [True, True, False]\n",
    "})\n",
    "\n",
    "print(df['Score'])\n",
    "print(df[['Name', 'Score']])\n",
    "print(df[0:2])\n",
    "print(df.sort_values('Score', ascending=False))\n",
    "print(df['Score'].mean())\n",
    "print(df.groupby('Passed').mean())"
   ]
  },
  {
   "cell_type": "markdown",
   "id": "4048f09a",
   "metadata": {},
   "source": [
    "## Data Cleaning Basics"
   ]
  },
  {
   "cell_type": "code",
   "execution_count": null,
   "id": "da48cba3",
   "metadata": {},
   "outputs": [],
   "source": [
    "df_dirty = pd.DataFrame({\n",
    "    'name': ['Alice', 'Bob', 'Charlie'],\n",
    "    'age': [25, None, 30]\n",
    "})\n",
    "\n",
    "print(df_dirty.isnull())\n",
    "print(df_dirty.dropna())\n",
    "print(df_dirty.fillna(0))\n",
    "\n",
    "df_dirty['age'] = df_dirty['age'].fillna(0).astype(int)\n",
    "df_dirty.rename(columns={'name': 'Name'}, inplace=True)\n",
    "print(df_dirty)"
   ]
  },
  {
   "cell_type": "markdown",
   "id": "46fa2666",
   "metadata": {},
   "source": [
    "## Hands-On Data Cleaning Example"
   ]
  },
  {
   "cell_type": "code",
   "execution_count": null,
   "id": "87694d36",
   "metadata": {},
   "outputs": [],
   "source": [
    "df_messy = pd.DataFrame({\n",
    "    ' Name ': ['Alice', 'Bob', 'Bob'],\n",
    "    ' Age': [25, None, 25],\n",
    "    ' Salary ': [50000, 60000, 60000]\n",
    "})\n",
    "\n",
    "df_messy.drop_duplicates(inplace=True)\n",
    "df_messy.columns = [col.strip().lower() for col in df_messy.columns]\n",
    "df_messy['age'] = df_messy['age'].fillna(df_messy['age'].mean())\n",
    "df_messy['age'] = df_messy['age'].astype(int)\n",
    "\n",
    "print(df_messy)"
   ]
  },
  {
   "cell_type": "markdown",
   "id": "4fd6a26c",
   "metadata": {},
   "source": [
    "## Practice Questions\n",
    "1. List of numbers 1-10, print evens\n",
    "2. Dictionary of students and scores, print those >80\n",
    "3. Tuple with 5 items, try changing one\n",
    "4. Create DataFrame and sort by salary\n",
    "5. Group by department, average salary\n",
    "6. Filter rows where salary > 50K and dept == 'IT'\n",
    "7. Drop rows with missing values\n",
    "8. Fill missing values with median\n",
    "9. Convert object to int\n",
    "10. Rename columns to lowercase and remove spaces"
   ]
  },
  {
   "cell_type": "markdown",
   "id": "e7ab4583",
   "metadata": {},
   "source": [
    "## Interview Questions (Write your answers below each)\n",
    "1. Difference between list and tuple?\n",
    "2. Difference between dictionary and list?\n",
    "3. Ways to iterate through a dictionary?\n",
    "4. What is a DataFrame?\n",
    "5. How to select rows and columns?\n",
    "6. What is groupby used for?\n",
    "7. Reasons for missing data?\n",
    "8. Handling missing data in pandas?\n",
    "9. How to identify duplicates?\n",
    "10. How to convert data types?"
   ]
  }
 ],
 "metadata": {},
 "nbformat": 4,
 "nbformat_minor": 5
}