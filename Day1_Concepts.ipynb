{
 "cells": [
  {
   "cell_type": "markdown",
   "id": "d05501c9",
   "metadata": {},
   "source": [
    "### Python Fundamentals"
   ]
  },
  {
   "cell_type": "markdown",
   "id": "22f1a1da",
   "metadata": {},
   "source": [
    "#### 1. Setting Up Your Environment: Jupyter Notebook\n",
    "    • Concept: Jupyter Notebook is an interactive web-based environment where you can write and run Python code, see the output immediately, and include markdown text (like this instruction). It's excellent for data exploration and analysis."
   ]
  },
  {
   "cell_type": "markdown",
   "id": "87bf304a",
   "metadata": {},
   "source": [
    "#### 2. Variables and Data Types\n",
    "    • Concept: Variables are like containers for storing information. Data types define the kind of data a variable holds (e.g., numbers, text, true/false values). Python is dynamically typed, meaning you don't declare the type explicitly.\n",
    "        ○ int: Integers (whole numbers, e.g., 5, -100).\n",
    "        ○ float: Floating-point numbers (numbers with decimal points, e.g., 3.14, -0.5).\n",
    "        ○ str: Strings (sequences of characters, enclosed in single or double quotes, e.g., \"Hello\", 'Python').\n",
    "        ○ bool: Booleans (represents True or False).\n"
   ]
  },
  {
   "cell_type": "code",
   "execution_count": null,
   "id": "a45627c7",
   "metadata": {},
   "outputs": [],
   "source": [
    "# Integers\n",
    "age = 30\n",
    "number_of_students = 25\n",
    "print(f\"Age: {age}, Type: {type(age)}\")\n",
    "\n",
    "# Floats\n",
    "price = 19.99\n",
    "pi = 3.14159\n",
    "print(f\"Price: {price}, Type: {type(price)}\")\n",
    "\n",
    "# Strings\n",
    "name = \"Alice Smith\"\n",
    "greeting = 'Hello, world!'\n",
    "print(f\"Name: {name}, Type: {type(name)}\")\n",
    "print(f\"Greeting: {greeting}\")\n",
    "\n",
    "# Booleans\n",
    "is_data_analyst = True\n",
    "has_experience = False\n",
    "print(f\"Is Data Analyst: {is_data_analyst}, Type: {type(is_data_analyst)}\")\n",
    "\n",
    "# Variable Reassignment (Python is dynamic)\n",
    "my_variable = 10       # my_variable is an int\n",
    "print(f\"my_variable: {my_variable}, Type: {type(my_variable)}\")\n",
    "my_variable = \"Python is fun!\" # Now my_variable is a string\n",
    "print(f\"my_variable: {my_variable}, Type: {type(my_variable)}\")"
   ]
  },
  {
   "cell_type": "markdown",
   "id": "4eeb3f71",
   "metadata": {},
   "source": [
    "####     • Basic Arithmetic Operators:\n"
   ]
  },
  {
   "cell_type": "code",
   "execution_count": null,
   "id": "f6260844",
   "metadata": {},
   "outputs": [],
   "source": [
    "x = 15\n",
    "y = 4\n",
    "\n",
    "print(f\"x + y = {x + y}\")   # Addition\n",
    "print(f\"x - y = {x - y}\")   # Subtraction\n",
    "print(f\"x * y = {x * y}\")   # Multiplication\n",
    "print(f\"x / y = {x / y}\")   # Division (returns float)\n",
    "print(f\"x // y = {x // y}\") # Floor Division (returns integer, discards decimal)\n",
    "print(f\"x % y = {x % y}\")   # Modulo (returns remainder)\n",
    "print(f\"x ** y = {x ** y}\") # Exponentiation (x to the power of y)"
   ]
  },
  {
   "cell_type": "markdown",
   "id": "5abd62c4",
   "metadata": {},
   "source": [
    "#### 3. Input and Output\n",
    "    • Concept:\n",
    "        ○ print(): Displays information to the console. You can print multiple items separated by commas, or use f-strings for formatted output.\n",
    "        ○ input(): Allows you to get data from the user during program execution. \n",
    "        The input is always read as a string, so you often need to convert it to a number if you expect numerical input (e.g., int(input()), float(input())).\n"
   ]
  },
  {
   "cell_type": "code",
   "execution_count": null,
   "id": "346f8eb4",
   "metadata": {},
   "outputs": [],
   "source": [
    "# Basic print\n",
    "print(\"Hello, Bootcamp!\")\n",
    "print(\"This\", \"is\", \"a\", \"sentence.\")\n",
    "\n",
    "# Using f-strings (Formatted String Literals - powerful and modern way)\n",
    "item = \"Laptop\"\n",
    "price = 1200.50\n",
    "print(f\"The {item} costs ${price:.2f}.\") # .2f for 2 decimal places\n",
    "\n",
    "# Getting input from user\n",
    "user_name = input(\"Please enter your name: \")\n",
    "print(f\"Hello, {user_name}!\")\n",
    "\n",
    "# Getting numerical input\n",
    "str_num1 = input(\"Enter the first number: \")\n",
    "str_num2 = input(\"Enter the second number: \")\n",
    "\n",
    "# Convert strings to numbers for arithmetic\n",
    "# Use a try-except block for robust code, but for now, assume valid input\n",
    "num1_converted = int(str_num1) # Will raise ValueError if input is not an integer\n",
    "num2_converted = float(str_num2) # Will raise ValueError if input is not a number\n",
    "\n",
    "sum_result = num1_converted + num2_converted\n",
    "print(f\"The sum of {num1_converted} and {num2_converted} is: {sum_result}\")"
   ]
  },
  {
   "cell_type": "markdown",
   "id": "2cbae0a6",
   "metadata": {},
   "source": [
    "#### 4. Conditional Statements (if, elif, else)\n",
    "    • Concept: Allows your program to make decisions and execute different blocks of code based on whether certain conditions are True or False.\n",
    "        ○ if: Executes code if the condition is True.\n",
    "        ○ elif (else if): Checks another condition if the previous if/elif conditions were False.\n",
    "        ○ else: Executes if none of the preceding if/elif conditions are True.\n",
    "        ○ Indentation is CRUCIAL in Python. Code blocks are defined by indentation (4 spaces or 1 tab, consistently).\n",
    "        \n",
    "    • Comparison Operators:\n",
    "        ○ == (equal to)\n",
    "        ○ != (not equal to)\n",
    "        ○ < (less than)\n",
    "        ○ > (greater than)\n",
    "        ○ <= (less than or equal to)\n",
    "        ○ >= (greater than or equal to)\n",
    "\n",
    "    • Logical Operators:\n",
    "        ○ and: Returns True if both conditions are true.\n",
    "        ○ or: Returns True if at least one condition is true.\n",
    "        ○ not: Reverses the boolean value (e.g., not True is False).\n"
   ]
  },
  {
   "cell_type": "code",
   "execution_count": null,
   "id": "bce1fc39",
   "metadata": {},
   "outputs": [],
   "source": [
    "# Basic if-else\n",
    "temperature = 25\n",
    "if temperature > 30:\n",
    "    print(\"It's a hot day!\")\n",
    "else:\n",
    "    print(\"It's not too hot.\")\n",
    "\n",
    "# if-elif-else\n",
    "score = 85\n",
    "if score >= 90:\n",
    "    print(\"Grade: A\")\n",
    "elif score >= 80:\n",
    "    print(\"Grade: B\")\n",
    "elif score >= 70:\n",
    "    print(\"Grade: C\")\n",
    "else:\n",
    "    print(\"Grade: F\")\n",
    "\n",
    "# Using logical operators\n",
    "age = 18\n",
    "has_id = True\n",
    "if age >= 18 and has_id:\n",
    "    print(\"You can enter the club.\")\n",
    "else:\n",
    "    print(\"You cannot enter the club.\")\n",
    "\n",
    "is_sunny = True\n",
    "is_warm = False\n",
    "if is_sunny or is_warm:\n",
    "    print(\"It's good weather for outdoor activities.\")"
   ]
  },
  {
   "cell_type": "markdown",
   "id": "c42cef80",
   "metadata": {},
   "source": [
    "#### 5. Loops (for, while)\n",
    "    • Concept: Loops allow you to execute a block of code repeatedly.\n",
    "        ○ for loop: Used for iterating over a sequence (like a string, list, or range of numbers). You know how many times it will run (or how many items it will process).\n",
    "        ○ while loop: Continues to execute as long as a certain condition is True. Be careful to include a way for the condition to eventually become False to avoid infinite loops.\n",
    "        ○ break: Exits the loop entirely.\n",
    "        ○ continue: Skips the rest of the current iteration and moves to the next.\n"
   ]
  },
  {
   "cell_type": "code",
   "execution_count": null,
   "id": "1984b8fa",
   "metadata": {},
   "outputs": [],
   "source": [
    "# For loop with range()\n",
    "# range(start, stop, step) - stop is exclusive\n",
    "print(\"Numbers from 0 to 4:\")\n",
    "for i in range(5): # 0, 1, 2, 3, 4\n",
    "    print(i)\n",
    "\n",
    "print(\"\\nNumbers from 1 to 5:\")\n",
    "for num in range(1, 6): # 1, 2, 3, 4, 5\n",
    "    print(num)\n",
    "\n",
    "print(\"\\nIterating over a string:\")\n",
    "my_string = \"DATA\"\n",
    "for char in my_string:\n",
    "    print(char)\n",
    "\n",
    "# While loop\n",
    "count = 0\n",
    "print(\"\\nCounting up to 3:\")\n",
    "while count < 4:\n",
    "    print(count)\n",
    "    count += 1 # Increment count to eventually make the condition False\n",
    "\n",
    "# break and continue\n",
    "print(\"\\nBreak and continue example:\")\n",
    "for i in range(10):\n",
    "    if i == 3:\n",
    "        continue # Skip printing 3\n",
    "    if i == 7:\n",
    "        break    # Stop loop at 7\n",
    "    print(i) # Prints 0, 1, 2, 4, 5, 6"
   ]
  },
  {
   "cell_type": "markdown",
   "id": "9b5b8a8d",
   "metadata": {},
   "source": [
    "#### 6. Functions \n",
    "    • Concept: Functions are reusable blocks of code that perform a specific task. They help organize your code, make it more readable, and avoid repetition (DRY: Don't Repeat Yourself).\n",
    "        ○ Defining: Use the def keyword, followed by the function name, parentheses (), and a colon :. Parameters (inputs) go inside the parentheses.\n",
    "        ○ Docstrings: A string immediately after the def line, used to explain what the function does. Best practice for good code.\n",
    "        ○ return: Used to send a value back from the function. If no return statement, the function implicitly returns None.\n",
    "Calling: To execute a function, use its name followed by parentheses, passing arguments (actual values for parameters)."
   ]
  },
  {
   "cell_type": "code",
   "execution_count": null,
   "id": "651e1dc7",
   "metadata": {},
   "outputs": [],
   "source": [
    "# Simple function without parameters or return\n",
    "def greet():\n",
    "    \"\"\"Prints a simple greeting.\"\"\"\n",
    "    print(\"Hello there!\")\n",
    "\n",
    "greet() # Call the function\n",
    "\n",
    "# Function with parameters\n",
    "def greet_name(name):\n",
    "    \"\"\"Prints a greeting with a personalized name.\"\"\"\n",
    "    print(f\"Hello, {name}!\")\n",
    "\n",
    "greet_name(\"Alice\")\n",
    "greet_name(\"Bob\")\n",
    "\n",
    "# Function with return value\n",
    "def add_numbers(a, b):\n",
    "    \"\"\"Adds two numbers and returns their sum.\"\"\"\n",
    "    sum_result = a + b\n",
    "    return sum_result\n",
    "\n",
    "result = add_numbers(10, 5)\n",
    "print(f\"The sum is: {result}\")\n",
    "print(f\"Another sum: {add_numbers(7, 3)}\") # Call and print directly\n",
    "\n",
    "# Function with multiple return values (returns a tuple)\n",
    "def calculate_stats(numbers):\n",
    "    \"\"\"Calculates sum and average of a list of numbers.\"\"\"\n",
    "    total = sum(numbers)\n",
    "    average = total / len(numbers)\n",
    "    return total, average\n",
    "\n",
    "my_nums = [10, 20, 30, 40]\n",
    "total_sum, avg_value = calculate_stats(my_nums)\n",
    "print(f\"Total sum: {total_sum}, Average: {avg_value}\")"
   ]
  }
 ],
 "metadata": {
  "kernelspec": {
   "display_name": "Python 3",
   "language": "python",
   "name": "python3"
  },
  "language_info": {
   "codemirror_mode": {
    "name": "ipython",
    "version": 3
   },
   "file_extension": ".py",
   "mimetype": "text/x-python",
   "name": "python",
   "nbconvert_exporter": "python",
   "pygments_lexer": "ipython3",
   "version": "3.12.0"
  }
 },
 "nbformat": 4,
 "nbformat_minor": 5
}
