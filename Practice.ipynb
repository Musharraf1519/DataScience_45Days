{
 "cells": [
  {
   "cell_type": "code",
   "execution_count": 16,
   "id": "26c4bfee",
   "metadata": {},
   "outputs": [
    {
     "name": "stdout",
     "output_type": "stream",
     "text": [
      "   Name  Age     City\n",
      "0  John   23       NY\n",
      "1  Sara   29       LA\n",
      "2  Mike   31  Chicago\n",
      "   Name  Age     City  Age Next year\n",
      "0  John   23       NY             24\n",
      "1  Sara   29       LA             30\n",
      "2  Mike   31  Chicago             32\n"
     ]
    },
    {
     "data": {
      "text/html": [
       "<div>\n",
       "<style scoped>\n",
       "    .dataframe tbody tr th:only-of-type {\n",
       "        vertical-align: middle;\n",
       "    }\n",
       "\n",
       "    .dataframe tbody tr th {\n",
       "        vertical-align: top;\n",
       "    }\n",
       "\n",
       "    .dataframe thead th {\n",
       "        text-align: right;\n",
       "    }\n",
       "</style>\n",
       "<table border=\"1\" class=\"dataframe\">\n",
       "  <thead>\n",
       "    <tr style=\"text-align: right;\">\n",
       "      <th></th>\n",
       "      <th>Name</th>\n",
       "      <th>Age</th>\n",
       "      <th>City</th>\n",
       "      <th>Age Next year</th>\n",
       "      <th>Age_category</th>\n",
       "    </tr>\n",
       "  </thead>\n",
       "  <tbody>\n",
       "    <tr>\n",
       "      <th>0</th>\n",
       "      <td>John</td>\n",
       "      <td>23</td>\n",
       "      <td>NY</td>\n",
       "      <td>24</td>\n",
       "      <td>Young</td>\n",
       "    </tr>\n",
       "  </tbody>\n",
       "</table>\n",
       "</div>"
      ],
      "text/plain": [
       "   Name  Age City  Age Next year Age_category\n",
       "0  John   23   NY             24        Young"
      ]
     },
     "execution_count": 16,
     "metadata": {},
     "output_type": "execute_result"
    }
   ],
   "source": [
    "import pandas as pd\n",
    "import numpy as np\n",
    "\n",
    "# Creating Data in form of dictionary\n",
    "data = {\n",
    "    \"Name\": [\"John\", \"Sara\", \"Mike\"],\n",
    "    \"Age\": [23, 29, 31],\n",
    "    \"City\": [\"NY\", \"LA\", \"Chicago\"]\n",
    "}\n",
    "\n",
    "# Creating Data Frame out of this Data.\n",
    "df = pd.DataFrame(data)\n",
    "print(df)\n",
    "\n",
    "\n",
    "# Basic DataFrame Operations\n",
    "df.head() # Gives the first 5 rows by default if the rows are less than five than all the rows\n",
    "\n",
    "# filter row by a condition\n",
    "df[df['Age']>25]  # filtering records with Age greater than 25\n",
    "\n",
    "# adding a new column\n",
    "df['Age Next year'] = df['Age']+1\n",
    "print(df)\n",
    "\n",
    "\n",
    "# Add a column called 'Age_category' that is \"Young\" if Age < 30 else \"Old\"\n",
    "df['Age_category'] = np.where(df['Age'] < 30, 'Young', 'Old')\n",
    "# Print all rows where City is \"NY\"\n",
    "df[df['City']=='NY']"
   ]
  },
  {
   "cell_type": "code",
   "execution_count": 48,
   "id": "2e64d97c",
   "metadata": {},
   "outputs": [
    {
     "name": "stdout",
     "output_type": "stream",
     "text": [
      "   id     Name  Age Department  Salary    Bonus\n",
      "0   1    Alice   30         HR   50000  55000.0\n",
      "1   2      Bob   25         IT   60000  66000.0\n",
      "2   3  Charlie   35         IT   70000  77000.0\n",
      "3   4    Diana   28  Marketing   52000  57200.0\n"
     ]
    },
    {
     "data": {
      "text/plain": [
       "Department\n",
       "IT           2\n",
       "HR           1\n",
       "Marketing    1\n",
       "Name: count, dtype: int64"
      ]
     },
     "execution_count": 48,
     "metadata": {},
     "output_type": "execute_result"
    }
   ],
   "source": [
    "data = {\n",
    "    'id' : [1,2,3,4],\n",
    "    'Name' : ['Alice','Bob','Charlie','Diana'],\n",
    "    'Age' : [30,25,35,28],\n",
    "    'Department' : ['HR','IT','IT','Marketing'],\n",
    "    'Salary' : [50000,60000,70000,52000]\n",
    "}\n",
    "\n",
    "\n",
    "\n",
    "df = pd.DataFrame(data)\n",
    "# df.head()\n",
    "\n",
    "# Add a new column 'Age Group' based on condition 'Young' if age < 30 else 'Experienced'\n",
    "# df['Age Group'] = np.where(df['Age']<30, 'Young','Experienced')\n",
    "# print(df)\n",
    "\n",
    "df[df['Department']=='IT']\n",
    "\n",
    "\n",
    "\n",
    "# Add a column called Bonus = 10% of Salary\n",
    "df['Bonus'] = df['Salary']*1.1\n",
    "print(df)\n",
    "# Show only those with Salary > 55000\n",
    "df[df['Salary']>55000]\n",
    "# Count how many employees are in each department (df['Department'].value_counts())\n",
    "df['Department'].value_counts()"
   ]
  }
 ],
 "metadata": {
  "kernelspec": {
   "display_name": "Python 3",
   "language": "python",
   "name": "python3"
  },
  "language_info": {
   "codemirror_mode": {
    "name": "ipython",
    "version": 3
   },
   "file_extension": ".py",
   "mimetype": "text/x-python",
   "name": "python",
   "nbconvert_exporter": "python",
   "pygments_lexer": "ipython3",
   "version": "3.12.0"
  }
 },
 "nbformat": 4,
 "nbformat_minor": 5
}
