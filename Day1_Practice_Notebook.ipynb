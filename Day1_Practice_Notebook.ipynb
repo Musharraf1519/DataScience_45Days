{
 "cells": [
  {
   "cell_type": "markdown",
   "id": "c7ffbe3e",
   "metadata": {},
   "source": [
    "# Day 1 Practice Notebook\n",
    "\n",
    "Welcome! This notebook covers Python, Pandas, SQL basics and interview questions to help you revise and practice your skills."
   ]
  },
  {
   "cell_type": "markdown",
   "id": "56a23f5c",
   "metadata": {},
   "source": [
    "## Python Basics Practice\n",
    "\n",
    "Try solving these problems by writing code in the next cells."
   ]
  },
  {
   "cell_type": "markdown",
   "id": "953bcfdc",
   "metadata": {},
   "source": [
    "1. Write a Python function to check if a number is prime."
   ]
  },
  {
   "cell_type": "code",
   "execution_count": 12,
   "id": "49549106",
   "metadata": {},
   "outputs": [
    {
     "name": "stdout",
     "output_type": "stream",
     "text": [
      "Prime Number\n"
     ]
    }
   ],
   "source": [
    "num = int(input())\n",
    "10\n",
    "flag=0\n",
    "for i in range(2, int(num/2)+1):\n",
    "    if num%i==0:\n",
    "        print(num%i)\n",
    "        flag=1\n",
    "        break\n",
    "if flag==0:\n",
    "    print(\"Prime Number\")\n",
    "else:\n",
    "    print(\"Non-Prime Number\")\n",
    "        \n",
    "\n"
   ]
  },
  {
   "cell_type": "markdown",
   "id": "09969fa4",
   "metadata": {},
   "source": [
    "2. How do you create a list of numbers from 1 to 20 in Python?"
   ]
  },
  {
   "cell_type": "code",
   "execution_count": 18,
   "id": "ce5fb6c7",
   "metadata": {},
   "outputs": [
    {
     "name": "stdout",
     "output_type": "stream",
     "text": [
      "[1, 2, 3, 4, 5, 6, 7, 8, 9, 10, 11, 12, 13, 14, 15, 16, 17, 18, 19, 20]\n"
     ]
    }
   ],
   "source": [
    "# Write your answer here\n",
    "\n",
    "numbers = list(range(1,21))\n",
    "print(numbers)\n"
   ]
  },
  {
   "cell_type": "markdown",
   "id": "797740ce",
   "metadata": {},
   "source": [
    "3. What is the difference between a list and a tuple? Give examples."
   ]
  },
  {
   "cell_type": "markdown",
   "id": "8fc28a03",
   "metadata": {},
   "source": [
    "###### Write your answer here\n",
    "List is immutable and tuple is mutable."
   ]
  },
  {
   "cell_type": "markdown",
   "id": "90602437",
   "metadata": {},
   "source": [
    "4. Write a loop to print all even numbers between 1 and 50."
   ]
  },
  {
   "cell_type": "code",
   "execution_count": 19,
   "id": "55a453eb",
   "metadata": {},
   "outputs": [
    {
     "name": "stdout",
     "output_type": "stream",
     "text": [
      "2\n",
      "4\n",
      "6\n",
      "8\n",
      "10\n",
      "12\n",
      "14\n",
      "16\n",
      "18\n",
      "20\n",
      "22\n",
      "24\n",
      "26\n",
      "28\n",
      "30\n",
      "32\n",
      "34\n",
      "36\n",
      "38\n",
      "40\n",
      "42\n",
      "44\n",
      "46\n",
      "48\n",
      "50\n"
     ]
    }
   ],
   "source": [
    "# Write your answer here\n",
    "for i in range(1,51):\n",
    "    if i%2==0:\n",
    "        print(i)\n"
   ]
  },
  {
   "cell_type": "markdown",
   "id": "993be7c9",
   "metadata": {},
   "source": [
    "5. Explain how dictionaries work in Python with a small code snippet."
   ]
  },
  {
   "cell_type": "code",
   "execution_count": null,
   "id": "690ad17c",
   "metadata": {},
   "outputs": [],
   "source": [
    "# Write your answer here\n"
   ]
  },
  {
   "cell_type": "markdown",
   "id": "44372a52",
   "metadata": {},
   "source": [
    "6. Write a function that takes a list of numbers and returns their average."
   ]
  },
  {
   "cell_type": "code",
   "execution_count": 12,
   "id": "36474fe6",
   "metadata": {},
   "outputs": [
    {
     "data": {
      "text/plain": [
       "30.0"
      ]
     },
     "execution_count": 12,
     "metadata": {},
     "output_type": "execute_result"
    }
   ],
   "source": [
    "# Write your answer here\n",
    "num = input(\"Enter the element in list separated by space\")\n",
    "lst_num = num.split()\n",
    "\n",
    "for i in range(0,len(lst_num)):\n",
    "    lst_num[i]=int(lst_num[i])\n",
    "\n",
    "def avg(num):\n",
    "    sum=0\n",
    "    for i in num:\n",
    "        sum = sum+i;\n",
    "        \n",
    "    return sum/len(num)\n",
    "\n",
    "avg(lst_num)\n",
    "    "
   ]
  },
  {
   "cell_type": "markdown",
   "id": "4bb7017b",
   "metadata": {},
   "source": [
    "7. What are *args and **kwargs in Python functions?"
   ]
  },
  {
   "cell_type": "code",
   "execution_count": null,
   "id": "91290a9e",
   "metadata": {},
   "outputs": [],
   "source": [
    "# Write your answer here\n"
   ]
  },
  {
   "cell_type": "markdown",
   "id": "8c91e2c3",
   "metadata": {},
   "source": [
    "8. How would you handle exceptions in Python? Write an example."
   ]
  },
  {
   "cell_type": "code",
   "execution_count": null,
   "id": "60cb25bb",
   "metadata": {},
   "outputs": [],
   "source": [
    "# Write your answer here\n"
   ]
  },
  {
   "cell_type": "markdown",
   "id": "82c795a6",
   "metadata": {},
   "source": [
    "## Pandas Basics Practice\n",
    "\n",
    "Practice the following with Pandas code."
   ]
  },
  {
   "cell_type": "markdown",
   "id": "ea9826d1",
   "metadata": {},
   "source": [
    "9. How do you read a CSV file into a Pandas DataFrame?"
   ]
  },
  {
   "cell_type": "code",
   "execution_count": null,
   "id": "62a58515",
   "metadata": {},
   "outputs": [],
   "source": [
    "# Write your answer here\n"
   ]
  },
  {
   "cell_type": "markdown",
   "id": "cdcc7f70",
   "metadata": {},
   "source": [
    "10. How can you filter rows in a DataFrame where a column value is greater than 50?"
   ]
  },
  {
   "cell_type": "code",
   "execution_count": null,
   "id": "73eb883d",
   "metadata": {},
   "outputs": [],
   "source": [
    "# Write your answer here\n"
   ]
  },
  {
   "cell_type": "markdown",
   "id": "e73a09ae",
   "metadata": {},
   "source": [
    "11. What does `df.describe()` do in Pandas?"
   ]
  },
  {
   "cell_type": "code",
   "execution_count": null,
   "id": "e49a4857",
   "metadata": {},
   "outputs": [],
   "source": [
    "# Write your answer here\n"
   ]
  },
  {
   "cell_type": "markdown",
   "id": "4ff3fae9",
   "metadata": {},
   "source": [
    "12. How do you add a new column to a DataFrame based on existing columns?"
   ]
  },
  {
   "cell_type": "code",
   "execution_count": null,
   "id": "c359d6c4",
   "metadata": {},
   "outputs": [],
   "source": [
    "# Write your answer here\n"
   ]
  },
  {
   "cell_type": "markdown",
   "id": "8299e968",
   "metadata": {},
   "source": [
    "13. Write a command to sort a DataFrame by a specific column in descending order."
   ]
  },
  {
   "cell_type": "code",
   "execution_count": null,
   "id": "5fcc0873",
   "metadata": {},
   "outputs": [],
   "source": [
    "# Write your answer here\n"
   ]
  },
  {
   "cell_type": "markdown",
   "id": "5e061f78",
   "metadata": {},
   "source": [
    "14. How do you handle missing data in a DataFrame?"
   ]
  },
  {
   "cell_type": "code",
   "execution_count": null,
   "id": "8bace34c",
   "metadata": {},
   "outputs": [],
   "source": [
    "# Write your answer here\n"
   ]
  },
  {
   "cell_type": "markdown",
   "id": "08ab4760",
   "metadata": {},
   "source": [
    "## SQL Basics Practice\n",
    "\n",
    "Write SQL queries or notes in the following cells."
   ]
  },
  {
   "cell_type": "markdown",
   "id": "afe3656c",
   "metadata": {},
   "source": [
    "15. Write a SQL query to select all records from a table named `customers`."
   ]
  },
  {
   "cell_type": "markdown",
   "id": "60bea31a",
   "metadata": {},
   "source": [
    "```sql\n",
    "-- Write your SQL query here\n",
    "```\n"
   ]
  },
  {
   "cell_type": "markdown",
   "id": "af02e05a",
   "metadata": {},
   "source": [
    "16. How do you filter rows where `age > 30` in SQL?"
   ]
  },
  {
   "cell_type": "markdown",
   "id": "7df8e83d",
   "metadata": {},
   "source": [
    "```sql\n",
    "-- Write your SQL query here\n",
    "```\n"
   ]
  },
  {
   "cell_type": "markdown",
   "id": "f26ef52c",
   "metadata": {},
   "source": [
    "17. What is the difference between INNER JOIN and LEFT JOIN?"
   ]
  },
  {
   "cell_type": "markdown",
   "id": "dfbf0b89",
   "metadata": {},
   "source": [
    "```sql\n",
    "-- Write your SQL query here\n",
    "```\n"
   ]
  },
  {
   "cell_type": "markdown",
   "id": "d575417a",
   "metadata": {},
   "source": [
    "18. Write a SQL query to count the number of customers in each city."
   ]
  },
  {
   "cell_type": "markdown",
   "id": "0835d3e4",
   "metadata": {},
   "source": [
    "```sql\n",
    "-- Write your SQL query here\n",
    "```\n"
   ]
  },
  {
   "cell_type": "markdown",
   "id": "75346727",
   "metadata": {},
   "source": [
    "19. How do you order query results by a column in descending order?"
   ]
  },
  {
   "cell_type": "markdown",
   "id": "b37ad4aa",
   "metadata": {},
   "source": [
    "```sql\n",
    "-- Write your SQL query here\n",
    "```\n"
   ]
  },
  {
   "cell_type": "markdown",
   "id": "2d100941",
   "metadata": {},
   "source": [
    "20. Explain GROUP BY with an example."
   ]
  },
  {
   "cell_type": "markdown",
   "id": "1fcd6aa3",
   "metadata": {},
   "source": [
    "```sql\n",
    "-- Write your SQL query here\n",
    "```\n"
   ]
  },
  {
   "cell_type": "markdown",
   "id": "d195916d",
   "metadata": {},
   "source": [
    "## Interview Preparation Questions\n",
    "\n",
    "Reflect on these questions and write your answers or notes."
   ]
  },
  {
   "cell_type": "markdown",
   "id": "359a3e35",
   "metadata": {},
   "source": [
    "1. How do you optimize your Python code for better performance?"
   ]
  },
  {
   "cell_type": "markdown",
   "id": "fc76e0fe",
   "metadata": {},
   "source": [
    "Write your answer here.\n"
   ]
  },
  {
   "cell_type": "markdown",
   "id": "cb9520b3",
   "metadata": {},
   "source": [
    "2. Explain the difference between deep copy and shallow copy in Python."
   ]
  },
  {
   "cell_type": "markdown",
   "id": "c74eabea",
   "metadata": {},
   "source": [
    "Write your answer here.\n"
   ]
  },
  {
   "cell_type": "markdown",
   "id": "bf7a9e47",
   "metadata": {},
   "source": [
    "3. What are Python generators and how do you use them?"
   ]
  },
  {
   "cell_type": "markdown",
   "id": "fd8711f9",
   "metadata": {},
   "source": [
    "Write your answer here.\n"
   ]
  },
  {
   "cell_type": "markdown",
   "id": "34f64218",
   "metadata": {},
   "source": [
    "4. How would you merge two DataFrames in Pandas?"
   ]
  },
  {
   "cell_type": "markdown",
   "id": "527010e1",
   "metadata": {},
   "source": [
    "Write your answer here.\n"
   ]
  },
  {
   "cell_type": "markdown",
   "id": "b10d867d",
   "metadata": {},
   "source": [
    "5. Describe the process of handling missing data in Pandas."
   ]
  },
  {
   "cell_type": "markdown",
   "id": "1dfadae2",
   "metadata": {},
   "source": [
    "Write your answer here.\n"
   ]
  },
  {
   "cell_type": "markdown",
   "id": "8ec7e00f",
   "metadata": {},
   "source": [
    "6. What is vectorization in Pandas and why is it important?"
   ]
  },
  {
   "cell_type": "markdown",
   "id": "f4aacec5",
   "metadata": {},
   "source": [
    "Write your answer here.\n"
   ]
  },
  {
   "cell_type": "markdown",
   "id": "f6634159",
   "metadata": {},
   "source": [
    "7. How do you write efficient SQL queries? What are some best practices?"
   ]
  },
  {
   "cell_type": "markdown",
   "id": "5b798c98",
   "metadata": {},
   "source": [
    "Write your answer here.\n"
   ]
  },
  {
   "cell_type": "markdown",
   "id": "92713fc3",
   "metadata": {},
   "source": [
    "8. Explain the concept of indexing in SQL databases and how it affects performance."
   ]
  },
  {
   "cell_type": "markdown",
   "id": "a9a83ddc",
   "metadata": {},
   "source": [
    "Write your answer here.\n"
   ]
  },
  {
   "cell_type": "markdown",
   "id": "4d2ce443",
   "metadata": {},
   "source": [
    "9. What is normalization? Why is it important in database design?"
   ]
  },
  {
   "cell_type": "markdown",
   "id": "14b73672",
   "metadata": {},
   "source": [
    "Write your answer here.\n"
   ]
  },
  {
   "cell_type": "markdown",
   "id": "0430ab38",
   "metadata": {},
   "source": [
    "10. How would you detect and handle duplicate records in a SQL table?"
   ]
  },
  {
   "cell_type": "markdown",
   "id": "70738d64",
   "metadata": {},
   "source": [
    "Write your answer here.\n"
   ]
  },
  {
   "cell_type": "markdown",
   "id": "c7b7fa4b",
   "metadata": {},
   "source": [
    "11. What are the different types of data analysis?"
   ]
  },
  {
   "cell_type": "markdown",
   "id": "0afd85dc",
   "metadata": {},
   "source": [
    "Write your answer here.\n"
   ]
  },
  {
   "cell_type": "markdown",
   "id": "10e7571a",
   "metadata": {},
   "source": [
    "12. How do you approach cleaning a messy dataset?"
   ]
  },
  {
   "cell_type": "markdown",
   "id": "337e9d5f",
   "metadata": {},
   "source": [
    "Write your answer here.\n"
   ]
  },
  {
   "cell_type": "markdown",
   "id": "c073d759",
   "metadata": {},
   "source": [
    "13. Explain the difference between supervised and unsupervised learning."
   ]
  },
  {
   "cell_type": "markdown",
   "id": "834fcd8b",
   "metadata": {},
   "source": [
    "Write your answer here.\n"
   ]
  },
  {
   "cell_type": "markdown",
   "id": "f5eb7429",
   "metadata": {},
   "source": [
    "14. What steps do you take to validate a machine learning model?"
   ]
  },
  {
   "cell_type": "markdown",
   "id": "0abd6e5d",
   "metadata": {},
   "source": [
    "Write your answer here.\n"
   ]
  },
  {
   "cell_type": "markdown",
   "id": "c506edf4",
   "metadata": {},
   "source": [
    "15. How do you communicate findings from a data analysis project to a non-technical audience?"
   ]
  },
  {
   "cell_type": "markdown",
   "id": "c3dff02e",
   "metadata": {},
   "source": [
    "Write your answer here.\n"
   ]
  }
 ],
 "metadata": {
  "kernelspec": {
   "display_name": "Python 3",
   "language": "python",
   "name": "python3"
  },
  "language_info": {
   "codemirror_mode": {
    "name": "ipython",
    "version": 3
   },
   "file_extension": ".py",
   "mimetype": "text/x-python",
   "name": "python",
   "nbconvert_exporter": "python",
   "pygments_lexer": "ipython3",
   "version": "3.12.0"
  }
 },
 "nbformat": 4,
 "nbformat_minor": 5
}
