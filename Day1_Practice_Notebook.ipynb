{
 "cells": [
  {
   "cell_type": "markdown",
   "id": "c7ffbe3e",
   "metadata": {},
   "source": [
    "## Day 1 Practice Notebook\n",
    "\n",
    "Welcome! This notebook will help you test all the concepts you have learned on Day 1 of 45 days series of Machine learning"
   ]
  },
  {
   "cell_type": "markdown",
   "id": "dcdf23cb",
   "metadata": {},
   "source": [
    "\n",
    "    • Problem 1: Simple Interest Calculator \n",
    "        ○ Write a function calculate_simple_interest(principal, rate, time) that takes three numerical inputs.\n",
    "        ○ Calculate the simple interest using the formula: Interest=Principal∗Rate∗Time/100.\n",
    "        ○ Return the calculated interest.\n",
    "        ○ Test your function with some values (e.g., 1000,5,2)."
   ]
  },
  {
   "cell_type": "code",
   "execution_count": null,
   "id": "bc6d2730",
   "metadata": {},
   "outputs": [],
   "source": []
  },
  {
   "cell_type": "markdown",
   "id": "4db034a8",
   "metadata": {},
   "source": [
    "    • Problem 2: Grade Classifier \n",
    "        ○ Ask the user for a student's numerical score (0-100).\n",
    "        ○ Use if-elif-else to assign a letter grade based on these criteria: \n",
    "            § 90-100: A\n",
    "            § 80-89: B\n",
    "            § 70-79: C\n",
    "            § 60-69: D\n",
    "            § Below 60: F\n",
    "        ○ Print the corresponding grade.\n",
    "        ○ Handle invalid scores (e.g., negative or above 100) by printing \"Invalid Score!\"."
   ]
  },
  {
   "cell_type": "code",
   "execution_count": null,
   "id": "f1ab85ff",
   "metadata": {},
   "outputs": [],
   "source": []
  },
  {
   "cell_type": "markdown",
   "id": "43a69a62",
   "metadata": {},
   "source": [
    "    • Problem 3: Count Down & Up \n",
    "        ○ Write a function count_sequence(start_num) that takes a positive integer.\n",
    "        ○ First, use a while loop to count down from start_num to 1.\n",
    "        ○ Then, use a for loop (with range()) to count up from 1 to start_num.\n",
    "        ○ Print each number in the sequence.\n",
    "        ○ Example: count_sequence(3) should print: 3, 2, 1, 1, 2, 3."
   ]
  },
  {
   "cell_type": "code",
   "execution_count": null,
   "id": "de7b897f",
   "metadata": {},
   "outputs": [],
   "source": []
  },
  {
   "cell_type": "markdown",
   "id": "41372052",
   "metadata": {},
   "source": [
    "    • Problem 4: Basic ATM Function \n",
    "        ○ Define a function atm_transaction(balance, amount, operation).\n",
    "        ○ operation can be \"deposit\" or \"withdraw\".\n",
    "        ○ If \"deposit\", add amount to balance and return new balance.\n",
    "        ○ If \"withdraw\", check if amount is less than or equal to balance. If yes, subtract amount and return new balance. If no, print \"Insufficient funds!\" and return original balance.\n",
    "        ○ Handle invalid operation strings by returning \"Invalid operation.\".\n",
    "        ○ Test with various scenarios."
   ]
  },
  {
   "cell_type": "code",
   "execution_count": null,
   "id": "c2d33563",
   "metadata": {},
   "outputs": [],
   "source": []
  },
  {
   "cell_type": "markdown",
   "id": "0f5a3d96",
   "metadata": {},
   "source": [
    "    • Problem 5: Sum of Even Numbers \n",
    "        ○ Write a for loop that iterates through numbers from 1 to 100.\n",
    "        ○ Inside the loop, use an if statement to check if the current number is even.\n",
    "        ○ If it is even, add it to a total_sum.\n",
    "        ○ Print the total_sum at the end."
   ]
  },
  {
   "cell_type": "code",
   "execution_count": null,
   "id": "6a6d2882",
   "metadata": {},
   "outputs": [],
   "source": []
  },
  {
   "cell_type": "markdown",
   "id": "19d7a0bc",
   "metadata": {},
   "source": [
    "    • Problem 6: Multiplication Table \n",
    "        ○ Ask the user to enter a number (e.g., 7).\n",
    "        ○ Use a for loop (with range()) to print the multiplication table for that number up to 10.\n",
    "        ○ Example for input 7: \n",
    "            § 7 x 1 = 7\n",
    "            § 7 x 2 = 14\n",
    "            § ...\n",
    "            § 7 x 10 = 70"
   ]
  },
  {
   "cell_type": "code",
   "execution_count": null,
   "id": "677421d6",
   "metadata": {},
   "outputs": [],
   "source": []
  },
  {
   "cell_type": "markdown",
   "id": "7a1b2659",
   "metadata": {},
   "source": [
    "    • Problem 7: Password Strength Checker (Basic) \n",
    "        ○ Ask the user to create a password.\n",
    "        ○ Implement a function check_password_strength(password_str) that: \n",
    "            § Returns \"Weak\" if the length is less than 6 characters.\n",
    "            § Returns \"Medium\" if the length is between 6 and 12 characters (inclusive).\n",
    "            § Returns \"Strong\" if the length is greater than 12 characters.\n",
    "        ○ Print the strength of the entered password."
   ]
  },
  {
   "cell_type": "code",
   "execution_count": null,
   "id": "dfdddaec",
   "metadata": {},
   "outputs": [],
   "source": []
  },
  {
   "cell_type": "markdown",
   "id": "a82b87b4",
   "metadata": {},
   "source": [
    "    • Problem 8: First N Natural Numbers Sum \n",
    "        ○ Write a function sum_natural_numbers(n) that takes a positive integer n.\n",
    "        ○ Calculate the sum of the first n natural numbers (1 + 2 + ... + n) using a while loop.\n",
    "        ○ Return the sum.\n",
    "        ○ Handle non-positive n by returning \"Input must be a positive integer.\"."
   ]
  },
  {
   "cell_type": "code",
   "execution_count": null,
   "id": "e63f7ba1",
   "metadata": {},
   "outputs": [],
   "source": []
  },
  {
   "cell_type": "markdown",
   "id": "5778a1de",
   "metadata": {},
   "source": [
    "    • Problem 9: Check for Palindrome (Simple String) \n",
    "        ○ Write a function is_palindrome(word) that takes a string.\n",
    "        ○ A palindrome reads the same forwards and backward (e.g., \"madam\", \"level\").\n",
    "        ○ Return True if it's a palindrome, False otherwise.\n",
    "        ○ Hint: You can reverse a string using slicing: word[::-1]."
   ]
  },
  {
   "cell_type": "code",
   "execution_count": null,
   "id": "fa96cb96",
   "metadata": {},
   "outputs": [],
   "source": []
  },
  {
   "cell_type": "markdown",
   "id": "a141f362",
   "metadata": {},
   "source": [
    "    • Problem 10: FizzBuzz \n",
    "        ○ Write a for loop that iterates from 1 to 50.\n",
    "        ○ For each number: \n",
    "            > If the number is divisible by both 3 and 5, print \"FizzBuzz\".\n",
    "            > If the number is divisible by 3 but not 5, print \"Fizz\".\n",
    "            > If the number is divisible by 5 but not 3, print \"Buzz\".\n",
    "            > Otherwise, print the number itself."
   ]
  },
  {
   "cell_type": "code",
   "execution_count": null,
   "id": "18c284bf",
   "metadata": {},
   "outputs": [],
   "source": []
  },
  {
   "cell_type": "markdown",
   "id": "f7ad0819",
   "metadata": {},
   "source": [
    "    • Q1: \"What is Python's role in Data Science?\" \n",
    "        ○ Expected Answer: Python is a dominant language due to its versatility, extensive libraries (Pandas for data manipulation, NumPy for numerical operations, Scikit-learn for machine learning, Matplotlib/Seaborn for visualization), and large community support. It allows data professionals to perform everything from data cleaning and analysis to building complex machine learning models."
   ]
  },
  {
   "cell_type": "markdown",
   "id": "630f7a71",
   "metadata": {},
   "source": [
    "    • Q2: \"Can you explain the difference between static and dynamic typing in programming languages? Which one is Python?\" \n",
    "        ○ Expected Answer: \n",
    "            § Static Typing: Data types are checked at compile-time (before the program runs). You typically declare a variable's type explicitly (e.g., int x = 10;). If there's a type mismatch, the compiler throws an error. Examples: Java, C++.\n",
    "            § Dynamic Typing: Data types are checked at run-time. You don't declare the variable's type explicitly; the type is inferred based on the value assigned. A variable can hold different types of data at different times.\n",
    "            § Python is dynamically typed. This makes Python code faster to write and more flexible, but requires careful handling to avoid runtime type errors."
   ]
  },
  {
   "cell_type": "markdown",
   "id": "38578496",
   "metadata": {},
   "source": [
    "    • Q3: \"How do you handle user input in Python, and what's a common pitfall to be aware of?\" \n",
    "        ○ Expected Answer: You use the input() function to get input from the user. The common pitfall is that input() always returns the user's input as a string, regardless of what the user types. If you expect a numerical value (like an age or a number for calculation), you must explicitly convert the string to an int() or float() using type casting. If the user enters text when a number is expected, this will result in a ValueError."
   ]
  },
  {
   "cell_type": "markdown",
   "id": "52d7042d",
   "metadata": {},
   "source": [
    "    • Q4: \"When would you use a for loop versus a while loop?\" \n",
    "        ○ Expected Answer: \n",
    "            § for loop: Used when you know the number of iterations beforehand, or when you want to iterate over a sequence (like a list, string, or range of numbers). It's typically used for definite iteration.\n",
    "            § while loop: Used when the number of iterations is unknown and depends on a condition being met. It continues to execute as long as its condition evaluates to True. It's typically used for indefinite iteration."
   ]
  },
  {
   "cell_type": "markdown",
   "id": "2fcfae37",
   "metadata": {},
   "source": [
    "    • Q5: \"Why are functions important in programming?\" \n",
    "        ○ Expected Answer: Functions are crucial for: \n",
    "            1. Reusability (DRY - Don't Repeat Yourself): Write code once and use it many times.\n",
    "            2. Modularity: Break down complex problems into smaller, manageable, and organized pieces.\n",
    "            3. Readability: Make code easier to understand by giving descriptive names to logical blocks.\n",
    "            4. Debugging: Isolate problems to specific functions, making it easier to find and fix errors.\n",
    "            5. Maintainability: Easier to update or modify specific parts of the code without affecting others."
   ]
  },
  {
   "cell_type": "markdown",
   "id": "ad17d784",
   "metadata": {},
   "source": [
    "    • Q6: \"Explain the concept of 'indentation' in Python and why it's critical.\" \n",
    "        ○ Expected Answer: Indentation in Python refers to the whitespace (spaces or tabs) at the beginning of a line to define the scope of a code block. Unlike other languages that use curly braces ({}) or keywords like BEGIN/END, Python uses consistent indentation to denote control flow statements (like if-else, for, while loops) and function definitions. It's critical because incorrect indentation will lead to IndentationError and prevent the program from running. It also enforces a clean, readable code style."
   ]
  },
  {
   "cell_type": "markdown",
   "id": "e606971e",
   "metadata": {},
   "source": [
    "    • Q7: \"What is the difference between print() and return in a Python function?\" \n",
    "        ○ Expected Answer: \n",
    "            § print() is a function that displays output to the console or standard output. It's used for showing information to the user or for debugging purposes. It doesn't affect the flow or value of the program's execution beyond showing the output.\n",
    "            § return is a keyword used inside a function to send a value back to the caller of the function. When return is executed, the function stops its execution, and the specified value is passed back. If a function doesn't explicitly return a value, it implicitly returns None."
   ]
  },
  {
   "cell_type": "markdown",
   "id": "d9ce3ed1",
   "metadata": {},
   "source": [
    "    • Q8: \"What are boolean operators (and, or, not) and how are they used in Python?\" \n",
    "        ○ Expected Answer: Boolean operators are used to combine or modify conditional statements, resulting in a True or False outcome. \n",
    "            § and: Returns True if both operands are True. Otherwise, returns False.\n",
    "            § or: Returns True if at least one operand is True. Only returns False if both operands are False.\n",
    "            § not: Reverses the boolean value of an operand. not True is False, and not False is True. They are essential for creating complex conditions in if statements and while loops."
   ]
  },
  {
   "cell_type": "markdown",
   "id": "2c83db42",
   "metadata": {},
   "source": [
    "    • Q9: \"Describe a scenario where continue would be more appropriate than break in a loop.\" \n",
    "        ○ Expected Answer: \n",
    "            § break is used when you want to exit a loop entirely, as soon as a certain condition is met.\n",
    "            § continue is used when you want to skip the current iteration of the loop and move to the next one, without exiting the loop completely.\n",
    "            § Scenario: If you are processing a list of items and you want to skip over items that meet a certain condition (e.g., skip processing negative numbers in a list of integers) but continue processing the rest of the items in the list, then continue is appropriate. If you want to stop processing as soon as you find a negative number, then break would be used."
   ]
  },
  {
   "cell_type": "markdown",
   "id": "a4dcf942",
   "metadata": {},
   "source": [
    "    • Q10: \"Explain what an f-string is and provide a simple example of its use.\" \n",
    "        ○ Expected Answer: An f-string (formatted string literal) is a powerful and concise way to embed expressions inside string literals in Python. They are prefixed with f or F before the opening quote.\n",
    "        ○ Example: \n",
    "Python\n",
    "\n",
    "name = \"Alice\"\n",
    "age = 30\n",
    "print(f\"My name is {name} and I am {age} years old.\")\n",
    "They are more readable and often faster than older string formatting methods like % formatting or str.format()."
   ]
  }
 ],
 "metadata": {
  "kernelspec": {
   "display_name": "Python 3",
   "language": "python",
   "name": "python3"
  },
  "language_info": {
   "codemirror_mode": {
    "name": "ipython",
    "version": 3
   },
   "file_extension": ".py",
   "mimetype": "text/x-python",
   "name": "python",
   "nbconvert_exporter": "python",
   "pygments_lexer": "ipython3",
   "version": "3.12.0"
  }
 },
 "nbformat": 4,
 "nbformat_minor": 5
}
